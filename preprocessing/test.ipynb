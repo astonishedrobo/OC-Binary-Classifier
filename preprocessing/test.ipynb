{
 "cells": [
  {
   "cell_type": "code",
   "execution_count": 49,
   "metadata": {},
   "outputs": [],
   "source": [
    "import pickle\n",
    "\n",
    "with open(\"/home/KutumLabGPU/Documents/oralcancer/oc_binary_classifier/data-osmf-norm/fold-1.pkl\", \"rb\") as file:\n",
    "    fold_1 = pickle.load(file)\n",
    "\n",
    "with open(\"/home/KutumLabGPU/Documents/oralcancer/oc_binary_classifier/data-osmf-norm/fold-2.pkl\", \"rb\") as file:\n",
    "    fold_2 = pickle.load(file)\n",
    "\n",
    "with open(\"/home/KutumLabGPU/Documents/oralcancer/oc_binary_classifier/data-osmf-norm/fold-3.pkl\", \"rb\") as file:\n",
    "    fold_3 = pickle.load(file)\n"
   ]
  },
  {
   "cell_type": "code",
   "execution_count": 50,
   "metadata": {},
   "outputs": [],
   "source": [
    "import pandas as pd\n",
    "\n",
    "legend_path = \"/home/KutumLabGPU/Documents/oralcancer_binary_norm_osmf/legend.csv\"\n",
    "legend = pd.read_csv(legend_path) "
   ]
  },
  {
   "cell_type": "code",
   "execution_count": 51,
   "metadata": {},
   "outputs": [
    {
     "data": {
      "text/plain": [
       "[array(['002-017', '002-018', '002-021', '002-023', '002-024', '001-011',\n",
       "        '001-012', '001-014', '001-017', '001-018', '004-001', '004-003',\n",
       "        '004-004'], dtype='<U7'),\n",
       " array(['002-015', '002-016', '002-022', '002-025', '001-013', '001-020',\n",
       "        '004-002'], dtype='<U7')]"
      ]
     },
     "execution_count": 51,
     "metadata": {},
     "output_type": "execute_result"
    }
   ],
   "source": [
    "fold_1"
   ]
  },
  {
   "cell_type": "code",
   "execution_count": 68,
   "metadata": {},
   "outputs": [],
   "source": [
    "import glob\n",
    "\n",
    "csv_data_train = {}\n",
    "for patient_id in fold_3[1]:\n",
    "    type_ = legend.loc[legend[\"filename\"] == patient_id, \"label\"].values[0]\n",
    "    # print(patient_id, type_)\n",
    "\n",
    "    if type_ == 0:\n",
    "        data_folder = \"/media/KutumLabGPU/oralcancer_binary_norm_osmf/NORMAL/\" + patient_id\n",
    "    else:\n",
    "        data_folder = \"/media/KutumLabGPU/oralcancer_binary_norm_osmf/OSMF/\" + patient_id\n",
    "\n",
    "    for file_path in glob.glob(data_folder + \"/*.png\"):\n",
    "        csv_data_train[file_path] = type_\n"
   ]
  },
  {
   "cell_type": "code",
   "execution_count": 67,
   "metadata": {},
   "outputs": [],
   "source": [
    "import csv\n",
    "csv_file_path = \"/home/KutumLabGPU/Documents/oralcancer/oc_binary_classifier/data-osmf-norm/fold_3_valid.csv\"\n",
    "# Save the dictionary to CSV\n",
    "with open(csv_file_path, 'w', newline='') as csvfile:\n",
    "    fieldnames = ['path', 'label']\n",
    "    writer = csv.DictWriter(csvfile, fieldnames=fieldnames)\n",
    "\n",
    "    # Write the header\n",
    "    writer.writeheader()\n",
    "\n",
    "    # Write the data\n",
    "    for filename, label in csv_data_train.items():\n",
    "        writer.writerow({'path': filename, 'label': label})"
   ]
  },
  {
   "cell_type": "code",
   "execution_count": null,
   "metadata": {},
   "outputs": [],
   "source": []
  }
 ],
 "metadata": {
  "kernelspec": {
   "display_name": "cellvit_env",
   "language": "python",
   "name": "python3"
  },
  "language_info": {
   "codemirror_mode": {
    "name": "ipython",
    "version": 3
   },
   "file_extension": ".py",
   "mimetype": "text/x-python",
   "name": "python",
   "nbconvert_exporter": "python",
   "pygments_lexer": "ipython3",
   "version": "3.9.7"
  }
 },
 "nbformat": 4,
 "nbformat_minor": 2
}
